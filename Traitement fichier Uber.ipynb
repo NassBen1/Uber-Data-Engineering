{
 "cells": [
  {
   "cell_type": "code",
   "execution_count": 226,
   "metadata": {
    "collapsed": true
   },
   "outputs": [],
   "source": [
    "import pandas as pd"
   ]
  },
  {
   "cell_type": "code",
   "execution_count": 227,
   "outputs": [
    {
     "data": {
      "text/plain": "   VendorID tpep_pickup_datetime tpep_dropoff_datetime  passenger_count  \\\n0         1  2016-03-01 00:00:00   2016-03-01 00:07:55                1   \n1         1  2016-03-01 00:00:00   2016-03-01 00:11:06                1   \n2         2  2016-03-01 00:00:00   2016-03-01 00:31:06                2   \n3         2  2016-03-01 00:00:00   2016-03-01 00:00:00                3   \n4         2  2016-03-01 00:00:00   2016-03-01 00:00:00                5   \n\n   trip_distance  pickup_longitude  pickup_latitude  RatecodeID  \\\n0           2.50        -73.976746        40.765152           1   \n1           2.90        -73.983482        40.767925           1   \n2          19.98        -73.782021        40.644810           1   \n3          10.78        -73.863419        40.769814           1   \n4          30.43        -73.971741        40.792183           3   \n\n  store_and_fwd_flag  dropoff_longitude  dropoff_latitude  payment_type  \\\n0                  N         -74.004265         40.746128             1   \n1                  N         -74.005943         40.733166             1   \n2                  N         -73.974541         40.675770             1   \n3                  N         -73.969650         40.757767             1   \n4                  N         -74.177170         40.695053             1   \n\n   fare_amount  extra  mta_tax  tip_amount  tolls_amount  \\\n0          9.0    0.5      0.5        2.05          0.00   \n1         11.0    0.5      0.5        3.05          0.00   \n2         54.5    0.5      0.5        8.00          0.00   \n3         31.5    0.0      0.5        3.78          5.54   \n4         98.0    0.0      0.0        0.00         15.50   \n\n   improvement_surcharge  total_amount  \n0                    0.3         12.35  \n1                    0.3         15.35  \n2                    0.3         63.80  \n3                    0.3         41.62  \n4                    0.3        113.80  ",
      "text/html": "<div>\n<style scoped>\n    .dataframe tbody tr th:only-of-type {\n        vertical-align: middle;\n    }\n\n    .dataframe tbody tr th {\n        vertical-align: top;\n    }\n\n    .dataframe thead th {\n        text-align: right;\n    }\n</style>\n<table border=\"1\" class=\"dataframe\">\n  <thead>\n    <tr style=\"text-align: right;\">\n      <th></th>\n      <th>VendorID</th>\n      <th>tpep_pickup_datetime</th>\n      <th>tpep_dropoff_datetime</th>\n      <th>passenger_count</th>\n      <th>trip_distance</th>\n      <th>pickup_longitude</th>\n      <th>pickup_latitude</th>\n      <th>RatecodeID</th>\n      <th>store_and_fwd_flag</th>\n      <th>dropoff_longitude</th>\n      <th>dropoff_latitude</th>\n      <th>payment_type</th>\n      <th>fare_amount</th>\n      <th>extra</th>\n      <th>mta_tax</th>\n      <th>tip_amount</th>\n      <th>tolls_amount</th>\n      <th>improvement_surcharge</th>\n      <th>total_amount</th>\n    </tr>\n  </thead>\n  <tbody>\n    <tr>\n      <th>0</th>\n      <td>1</td>\n      <td>2016-03-01 00:00:00</td>\n      <td>2016-03-01 00:07:55</td>\n      <td>1</td>\n      <td>2.50</td>\n      <td>-73.976746</td>\n      <td>40.765152</td>\n      <td>1</td>\n      <td>N</td>\n      <td>-74.004265</td>\n      <td>40.746128</td>\n      <td>1</td>\n      <td>9.0</td>\n      <td>0.5</td>\n      <td>0.5</td>\n      <td>2.05</td>\n      <td>0.00</td>\n      <td>0.3</td>\n      <td>12.35</td>\n    </tr>\n    <tr>\n      <th>1</th>\n      <td>1</td>\n      <td>2016-03-01 00:00:00</td>\n      <td>2016-03-01 00:11:06</td>\n      <td>1</td>\n      <td>2.90</td>\n      <td>-73.983482</td>\n      <td>40.767925</td>\n      <td>1</td>\n      <td>N</td>\n      <td>-74.005943</td>\n      <td>40.733166</td>\n      <td>1</td>\n      <td>11.0</td>\n      <td>0.5</td>\n      <td>0.5</td>\n      <td>3.05</td>\n      <td>0.00</td>\n      <td>0.3</td>\n      <td>15.35</td>\n    </tr>\n    <tr>\n      <th>2</th>\n      <td>2</td>\n      <td>2016-03-01 00:00:00</td>\n      <td>2016-03-01 00:31:06</td>\n      <td>2</td>\n      <td>19.98</td>\n      <td>-73.782021</td>\n      <td>40.644810</td>\n      <td>1</td>\n      <td>N</td>\n      <td>-73.974541</td>\n      <td>40.675770</td>\n      <td>1</td>\n      <td>54.5</td>\n      <td>0.5</td>\n      <td>0.5</td>\n      <td>8.00</td>\n      <td>0.00</td>\n      <td>0.3</td>\n      <td>63.80</td>\n    </tr>\n    <tr>\n      <th>3</th>\n      <td>2</td>\n      <td>2016-03-01 00:00:00</td>\n      <td>2016-03-01 00:00:00</td>\n      <td>3</td>\n      <td>10.78</td>\n      <td>-73.863419</td>\n      <td>40.769814</td>\n      <td>1</td>\n      <td>N</td>\n      <td>-73.969650</td>\n      <td>40.757767</td>\n      <td>1</td>\n      <td>31.5</td>\n      <td>0.0</td>\n      <td>0.5</td>\n      <td>3.78</td>\n      <td>5.54</td>\n      <td>0.3</td>\n      <td>41.62</td>\n    </tr>\n    <tr>\n      <th>4</th>\n      <td>2</td>\n      <td>2016-03-01 00:00:00</td>\n      <td>2016-03-01 00:00:00</td>\n      <td>5</td>\n      <td>30.43</td>\n      <td>-73.971741</td>\n      <td>40.792183</td>\n      <td>3</td>\n      <td>N</td>\n      <td>-74.177170</td>\n      <td>40.695053</td>\n      <td>1</td>\n      <td>98.0</td>\n      <td>0.0</td>\n      <td>0.0</td>\n      <td>0.00</td>\n      <td>15.50</td>\n      <td>0.3</td>\n      <td>113.80</td>\n    </tr>\n  </tbody>\n</table>\n</div>"
     },
     "execution_count": 227,
     "metadata": {},
     "output_type": "execute_result"
    }
   ],
   "source": [
    "df = pd.read_csv(\"data/uber_data.csv\")\n",
    "df.head()"
   ],
   "metadata": {
    "collapsed": false
   }
  },
  {
   "cell_type": "code",
   "execution_count": 228,
   "outputs": [
    {
     "name": "stdout",
     "output_type": "stream",
     "text": [
      "<class 'pandas.core.frame.DataFrame'>\n",
      "RangeIndex: 100000 entries, 0 to 99999\n",
      "Data columns (total 19 columns):\n",
      " #   Column                 Non-Null Count   Dtype  \n",
      "---  ------                 --------------   -----  \n",
      " 0   VendorID               100000 non-null  int64  \n",
      " 1   tpep_pickup_datetime   100000 non-null  object \n",
      " 2   tpep_dropoff_datetime  100000 non-null  object \n",
      " 3   passenger_count        100000 non-null  int64  \n",
      " 4   trip_distance          100000 non-null  float64\n",
      " 5   pickup_longitude       100000 non-null  float64\n",
      " 6   pickup_latitude        100000 non-null  float64\n",
      " 7   RatecodeID             100000 non-null  int64  \n",
      " 8   store_and_fwd_flag     100000 non-null  object \n",
      " 9   dropoff_longitude      100000 non-null  float64\n",
      " 10  dropoff_latitude       100000 non-null  float64\n",
      " 11  payment_type           100000 non-null  int64  \n",
      " 12  fare_amount            100000 non-null  float64\n",
      " 13  extra                  100000 non-null  float64\n",
      " 14  mta_tax                100000 non-null  float64\n",
      " 15  tip_amount             100000 non-null  float64\n",
      " 16  tolls_amount           100000 non-null  float64\n",
      " 17  improvement_surcharge  100000 non-null  float64\n",
      " 18  total_amount           100000 non-null  float64\n",
      "dtypes: float64(12), int64(4), object(3)\n",
      "memory usage: 14.5+ MB\n"
     ]
    }
   ],
   "source": [
    "df.info()"
   ],
   "metadata": {
    "collapsed": false
   }
  },
  {
   "cell_type": "code",
   "execution_count": 229,
   "outputs": [
    {
     "name": "stdout",
     "output_type": "stream",
     "text": [
      "<class 'pandas.core.frame.DataFrame'>\n",
      "RangeIndex: 100000 entries, 0 to 99999\n",
      "Data columns (total 19 columns):\n",
      " #   Column                 Non-Null Count   Dtype         \n",
      "---  ------                 --------------   -----         \n",
      " 0   VendorID               100000 non-null  int64         \n",
      " 1   tpep_pickup_datetime   100000 non-null  datetime64[ns]\n",
      " 2   tpep_dropoff_datetime  100000 non-null  datetime64[ns]\n",
      " 3   passenger_count        100000 non-null  int64         \n",
      " 4   trip_distance          100000 non-null  float64       \n",
      " 5   pickup_longitude       100000 non-null  float64       \n",
      " 6   pickup_latitude        100000 non-null  float64       \n",
      " 7   RatecodeID             100000 non-null  int64         \n",
      " 8   store_and_fwd_flag     100000 non-null  object        \n",
      " 9   dropoff_longitude      100000 non-null  float64       \n",
      " 10  dropoff_latitude       100000 non-null  float64       \n",
      " 11  payment_type           100000 non-null  int64         \n",
      " 12  fare_amount            100000 non-null  float64       \n",
      " 13  extra                  100000 non-null  float64       \n",
      " 14  mta_tax                100000 non-null  float64       \n",
      " 15  tip_amount             100000 non-null  float64       \n",
      " 16  tolls_amount           100000 non-null  float64       \n",
      " 17  improvement_surcharge  100000 non-null  float64       \n",
      " 18  total_amount           100000 non-null  float64       \n",
      "dtypes: datetime64[ns](2), float64(12), int64(4), object(1)\n",
      "memory usage: 14.5+ MB\n"
     ]
    }
   ],
   "source": [
    "#Faire passer les dates en datetime\n",
    "df['tpep_pickup_datetime'] = pd.to_datetime(df['tpep_pickup_datetime'])\n",
    "df['tpep_dropoff_datetime'] = pd.to_datetime(df['tpep_dropoff_datetime'])\n",
    "df.info()"
   ],
   "metadata": {
    "collapsed": false
   }
  },
  {
   "cell_type": "code",
   "execution_count": 230,
   "outputs": [
    {
     "data": {
      "text/plain": "   datetime_id tpep_pickup_datetime  pick_hour  pick_day  pick_month  \\\n0            0  2016-03-01 00:00:00          0         1           3   \n1            1  2016-03-01 00:00:00          0         1           3   \n2            2  2016-03-01 00:00:00          0         1           3   \n3            3  2016-03-01 00:00:00          0         1           3   \n4            4  2016-03-01 00:00:01          0         1           3   \n\n   pick_year  weekday tpep_dropoff_datetime  drop_hour  drop_day  drop_month  \\\n0       2016        1   2016-03-01 00:07:55          0         1           3   \n1       2016        1   2016-03-01 00:11:06          0         1           3   \n2       2016        1   2016-03-01 00:31:06          0         1           3   \n3       2016        1   2016-03-01 00:00:00          0         1           3   \n4       2016        1   2016-03-01 00:16:04          0         1           3   \n\n   drop_year  drop_weekday  \n0       2016             1  \n1       2016             1  \n2       2016             1  \n3       2016             1  \n4       2016             1  ",
      "text/html": "<div>\n<style scoped>\n    .dataframe tbody tr th:only-of-type {\n        vertical-align: middle;\n    }\n\n    .dataframe tbody tr th {\n        vertical-align: top;\n    }\n\n    .dataframe thead th {\n        text-align: right;\n    }\n</style>\n<table border=\"1\" class=\"dataframe\">\n  <thead>\n    <tr style=\"text-align: right;\">\n      <th></th>\n      <th>datetime_id</th>\n      <th>tpep_pickup_datetime</th>\n      <th>pick_hour</th>\n      <th>pick_day</th>\n      <th>pick_month</th>\n      <th>pick_year</th>\n      <th>weekday</th>\n      <th>tpep_dropoff_datetime</th>\n      <th>drop_hour</th>\n      <th>drop_day</th>\n      <th>drop_month</th>\n      <th>drop_year</th>\n      <th>drop_weekday</th>\n    </tr>\n  </thead>\n  <tbody>\n    <tr>\n      <th>0</th>\n      <td>0</td>\n      <td>2016-03-01 00:00:00</td>\n      <td>0</td>\n      <td>1</td>\n      <td>3</td>\n      <td>2016</td>\n      <td>1</td>\n      <td>2016-03-01 00:07:55</td>\n      <td>0</td>\n      <td>1</td>\n      <td>3</td>\n      <td>2016</td>\n      <td>1</td>\n    </tr>\n    <tr>\n      <th>1</th>\n      <td>1</td>\n      <td>2016-03-01 00:00:00</td>\n      <td>0</td>\n      <td>1</td>\n      <td>3</td>\n      <td>2016</td>\n      <td>1</td>\n      <td>2016-03-01 00:11:06</td>\n      <td>0</td>\n      <td>1</td>\n      <td>3</td>\n      <td>2016</td>\n      <td>1</td>\n    </tr>\n    <tr>\n      <th>2</th>\n      <td>2</td>\n      <td>2016-03-01 00:00:00</td>\n      <td>0</td>\n      <td>1</td>\n      <td>3</td>\n      <td>2016</td>\n      <td>1</td>\n      <td>2016-03-01 00:31:06</td>\n      <td>0</td>\n      <td>1</td>\n      <td>3</td>\n      <td>2016</td>\n      <td>1</td>\n    </tr>\n    <tr>\n      <th>3</th>\n      <td>3</td>\n      <td>2016-03-01 00:00:00</td>\n      <td>0</td>\n      <td>1</td>\n      <td>3</td>\n      <td>2016</td>\n      <td>1</td>\n      <td>2016-03-01 00:00:00</td>\n      <td>0</td>\n      <td>1</td>\n      <td>3</td>\n      <td>2016</td>\n      <td>1</td>\n    </tr>\n    <tr>\n      <th>4</th>\n      <td>4</td>\n      <td>2016-03-01 00:00:01</td>\n      <td>0</td>\n      <td>1</td>\n      <td>3</td>\n      <td>2016</td>\n      <td>1</td>\n      <td>2016-03-01 00:16:04</td>\n      <td>0</td>\n      <td>1</td>\n      <td>3</td>\n      <td>2016</td>\n      <td>1</td>\n    </tr>\n  </tbody>\n</table>\n</div>"
     },
     "execution_count": 230,
     "metadata": {},
     "output_type": "execute_result"
    }
   ],
   "source": [
    "#Créer un dataframe datetime avec les colonnes tpep_pickup_datetime et tpep_dropoff_datetime\n",
    "datetime_dim = df[['tpep_pickup_datetime', 'tpep_dropoff_datetime']].drop_duplicates().reset_index(drop=True)\n",
    "datetime_dim['datetime_id'] = datetime_dim.index\n",
    "datetime_dim['pick_hour']=datetime_dim['tpep_pickup_datetime'].dt.hour\n",
    "datetime_dim['pick_day']=datetime_dim['tpep_pickup_datetime'].dt.day\n",
    "datetime_dim['pick_month']=datetime_dim['tpep_pickup_datetime'].dt.month\n",
    "datetime_dim['pick_year']=datetime_dim['tpep_pickup_datetime'].dt.year\n",
    "datetime_dim['weekday']=datetime_dim['tpep_pickup_datetime'].dt.weekday\n",
    "\n",
    "datetime_dim['drop_hour']=datetime_dim['tpep_dropoff_datetime'].dt.hour\n",
    "datetime_dim['drop_day']=datetime_dim['tpep_dropoff_datetime'].dt.day\n",
    "datetime_dim['drop_month']=datetime_dim['tpep_dropoff_datetime'].dt.month\n",
    "datetime_dim['drop_year']=datetime_dim['tpep_dropoff_datetime'].dt.year\n",
    "datetime_dim['drop_weekday']=datetime_dim['tpep_dropoff_datetime'].dt.weekday\n",
    "\n",
    "datetime_dim = datetime_dim[['datetime_id', 'tpep_pickup_datetime', 'pick_hour', 'pick_day', 'pick_month', 'pick_year', 'weekday', 'tpep_dropoff_datetime', 'drop_hour', 'drop_day', 'drop_month', 'drop_year', 'drop_weekday']]\n",
    "datetime_dim.head()"
   ],
   "metadata": {
    "collapsed": false
   }
  },
  {
   "cell_type": "code",
   "execution_count": 231,
   "outputs": [
    {
     "data": {
      "text/plain": "   passenger_count  passenger_count_id\n0                1                   0\n1                2                   1\n2                3                   2\n3                5                   3\n4                6                   4",
      "text/html": "<div>\n<style scoped>\n    .dataframe tbody tr th:only-of-type {\n        vertical-align: middle;\n    }\n\n    .dataframe tbody tr th {\n        vertical-align: top;\n    }\n\n    .dataframe thead th {\n        text-align: right;\n    }\n</style>\n<table border=\"1\" class=\"dataframe\">\n  <thead>\n    <tr style=\"text-align: right;\">\n      <th></th>\n      <th>passenger_count</th>\n      <th>passenger_count_id</th>\n    </tr>\n  </thead>\n  <tbody>\n    <tr>\n      <th>0</th>\n      <td>1</td>\n      <td>0</td>\n    </tr>\n    <tr>\n      <th>1</th>\n      <td>2</td>\n      <td>1</td>\n    </tr>\n    <tr>\n      <th>2</th>\n      <td>3</td>\n      <td>2</td>\n    </tr>\n    <tr>\n      <th>3</th>\n      <td>5</td>\n      <td>3</td>\n    </tr>\n    <tr>\n      <th>4</th>\n      <td>6</td>\n      <td>4</td>\n    </tr>\n  </tbody>\n</table>\n</div>"
     },
     "execution_count": 231,
     "metadata": {},
     "output_type": "execute_result"
    }
   ],
   "source": [
    "#Creer un dataframe passenger_count_dim avec la colonne passenger_count\n",
    "passenger_count_dim = df[['passenger_count']].drop_duplicates().reset_index(drop=True)\n",
    "passenger_count_dim['passenger_count_id'] = passenger_count_dim.index\n",
    "passenger_count_dim.head()"
   ],
   "metadata": {
    "collapsed": false
   }
  },
  {
   "cell_type": "code",
   "execution_count": 232,
   "outputs": [
    {
     "data": {
      "text/plain": "   trip_distance  trip_distance_id\n0           2.50                 0\n1           2.90                 1\n2          19.98                 2\n3          10.78                 3\n4          30.43                 4",
      "text/html": "<div>\n<style scoped>\n    .dataframe tbody tr th:only-of-type {\n        vertical-align: middle;\n    }\n\n    .dataframe tbody tr th {\n        vertical-align: top;\n    }\n\n    .dataframe thead th {\n        text-align: right;\n    }\n</style>\n<table border=\"1\" class=\"dataframe\">\n  <thead>\n    <tr style=\"text-align: right;\">\n      <th></th>\n      <th>trip_distance</th>\n      <th>trip_distance_id</th>\n    </tr>\n  </thead>\n  <tbody>\n    <tr>\n      <th>0</th>\n      <td>2.50</td>\n      <td>0</td>\n    </tr>\n    <tr>\n      <th>1</th>\n      <td>2.90</td>\n      <td>1</td>\n    </tr>\n    <tr>\n      <th>2</th>\n      <td>19.98</td>\n      <td>2</td>\n    </tr>\n    <tr>\n      <th>3</th>\n      <td>10.78</td>\n      <td>3</td>\n    </tr>\n    <tr>\n      <th>4</th>\n      <td>30.43</td>\n      <td>4</td>\n    </tr>\n  </tbody>\n</table>\n</div>"
     },
     "execution_count": 232,
     "metadata": {},
     "output_type": "execute_result"
    }
   ],
   "source": [
    "#Creer un dataframe trip_distance_dim avec la colonne trip_distance\n",
    "trip_distance_dim = df[['trip_distance']].drop_duplicates().reset_index(drop=True)\n",
    "trip_distance_dim['trip_distance_id'] = trip_distance_dim.index\n",
    "trip_distance_dim.head()"
   ],
   "metadata": {
    "collapsed": false
   }
  },
  {
   "cell_type": "code",
   "execution_count": 233,
   "outputs": [
    {
     "data": {
      "text/plain": "   rate_code_id  RatecodeID         rate_code_name\n0             0           1          Standard rate\n1             1           3                 Newark\n2             2           2                    JFK\n3             3           5        Negotiated fare\n4             4           4  Nassau or Westchester",
      "text/html": "<div>\n<style scoped>\n    .dataframe tbody tr th:only-of-type {\n        vertical-align: middle;\n    }\n\n    .dataframe tbody tr th {\n        vertical-align: top;\n    }\n\n    .dataframe thead th {\n        text-align: right;\n    }\n</style>\n<table border=\"1\" class=\"dataframe\">\n  <thead>\n    <tr style=\"text-align: right;\">\n      <th></th>\n      <th>rate_code_id</th>\n      <th>RatecodeID</th>\n      <th>rate_code_name</th>\n    </tr>\n  </thead>\n  <tbody>\n    <tr>\n      <th>0</th>\n      <td>0</td>\n      <td>1</td>\n      <td>Standard rate</td>\n    </tr>\n    <tr>\n      <th>1</th>\n      <td>1</td>\n      <td>3</td>\n      <td>Newark</td>\n    </tr>\n    <tr>\n      <th>2</th>\n      <td>2</td>\n      <td>2</td>\n      <td>JFK</td>\n    </tr>\n    <tr>\n      <th>3</th>\n      <td>3</td>\n      <td>5</td>\n      <td>Negotiated fare</td>\n    </tr>\n    <tr>\n      <th>4</th>\n      <td>4</td>\n      <td>4</td>\n      <td>Nassau or Westchester</td>\n    </tr>\n  </tbody>\n</table>\n</div>"
     },
     "execution_count": 233,
     "metadata": {},
     "output_type": "execute_result"
    }
   ],
   "source": [
    "rate_code_type = {1: 'Standard rate',\n",
    "                  2: 'JFK',\n",
    "                  3: 'Newark',\n",
    "                  4: 'Nassau or Westchester',\n",
    "                  5: 'Negotiated fare',\n",
    "                  6: 'Group ride'}\n",
    "\n",
    "#Creer un dataframe rate_code_dim avec la colonne RateCodeID\n",
    "rate_code_dim = df[['RatecodeID']].drop_duplicates().reset_index(drop=True)\n",
    "rate_code_dim['rate_code_id'] = rate_code_dim.index\n",
    "rate_code_dim['rate_code_name'] = rate_code_dim['RatecodeID'].map(rate_code_type)\n",
    "rate_code_dim = rate_code_dim[['rate_code_id', 'RatecodeID', 'rate_code_name']]\n",
    "rate_code_dim.head()"
   ],
   "metadata": {
    "collapsed": false
   }
  },
  {
   "cell_type": "code",
   "execution_count": 234,
   "outputs": [
    {
     "data": {
      "text/plain": "   pickup_location_id  pickup_latitude  pickup_longitude\n0                   0        40.765152        -73.976746\n1                   1        40.767925        -73.983482\n2                   2        40.644810        -73.782021\n3                   3        40.769814        -73.863419\n4                   4        40.792183        -73.971741",
      "text/html": "<div>\n<style scoped>\n    .dataframe tbody tr th:only-of-type {\n        vertical-align: middle;\n    }\n\n    .dataframe tbody tr th {\n        vertical-align: top;\n    }\n\n    .dataframe thead th {\n        text-align: right;\n    }\n</style>\n<table border=\"1\" class=\"dataframe\">\n  <thead>\n    <tr style=\"text-align: right;\">\n      <th></th>\n      <th>pickup_location_id</th>\n      <th>pickup_latitude</th>\n      <th>pickup_longitude</th>\n    </tr>\n  </thead>\n  <tbody>\n    <tr>\n      <th>0</th>\n      <td>0</td>\n      <td>40.765152</td>\n      <td>-73.976746</td>\n    </tr>\n    <tr>\n      <th>1</th>\n      <td>1</td>\n      <td>40.767925</td>\n      <td>-73.983482</td>\n    </tr>\n    <tr>\n      <th>2</th>\n      <td>2</td>\n      <td>40.644810</td>\n      <td>-73.782021</td>\n    </tr>\n    <tr>\n      <th>3</th>\n      <td>3</td>\n      <td>40.769814</td>\n      <td>-73.863419</td>\n    </tr>\n    <tr>\n      <th>4</th>\n      <td>4</td>\n      <td>40.792183</td>\n      <td>-73.971741</td>\n    </tr>\n  </tbody>\n</table>\n</div>"
     },
     "execution_count": 234,
     "metadata": {},
     "output_type": "execute_result"
    }
   ],
   "source": [
    "#Créer la table pickup_location_dim avec les colonnes pickup_location_id, pickup_latitude, pickup_longitude\n",
    "pickup_location_dim = df[['pickup_latitude', 'pickup_longitude']].drop_duplicates().reset_index(drop=True)\n",
    "pickup_location_dim['pickup_location_id'] = pickup_location_dim.index\n",
    "pickup_location_dim = pickup_location_dim[['pickup_location_id', 'pickup_latitude', 'pickup_longitude']]\n",
    "pickup_location_dim.head()\n"
   ],
   "metadata": {
    "collapsed": false
   }
  },
  {
   "cell_type": "code",
   "execution_count": 235,
   "outputs": [
    {
     "data": {
      "text/plain": "   dropoff_location_id  dropoff_latitude  dropoff_longitude\n0                    0         40.746128         -74.004265\n1                    1         40.733166         -74.005943\n2                    2         40.675770         -73.974541\n3                    3         40.757767         -73.969650\n4                    4         40.695053         -74.177170",
      "text/html": "<div>\n<style scoped>\n    .dataframe tbody tr th:only-of-type {\n        vertical-align: middle;\n    }\n\n    .dataframe tbody tr th {\n        vertical-align: top;\n    }\n\n    .dataframe thead th {\n        text-align: right;\n    }\n</style>\n<table border=\"1\" class=\"dataframe\">\n  <thead>\n    <tr style=\"text-align: right;\">\n      <th></th>\n      <th>dropoff_location_id</th>\n      <th>dropoff_latitude</th>\n      <th>dropoff_longitude</th>\n    </tr>\n  </thead>\n  <tbody>\n    <tr>\n      <th>0</th>\n      <td>0</td>\n      <td>40.746128</td>\n      <td>-74.004265</td>\n    </tr>\n    <tr>\n      <th>1</th>\n      <td>1</td>\n      <td>40.733166</td>\n      <td>-74.005943</td>\n    </tr>\n    <tr>\n      <th>2</th>\n      <td>2</td>\n      <td>40.675770</td>\n      <td>-73.974541</td>\n    </tr>\n    <tr>\n      <th>3</th>\n      <td>3</td>\n      <td>40.757767</td>\n      <td>-73.969650</td>\n    </tr>\n    <tr>\n      <th>4</th>\n      <td>4</td>\n      <td>40.695053</td>\n      <td>-74.177170</td>\n    </tr>\n  </tbody>\n</table>\n</div>"
     },
     "execution_count": 235,
     "metadata": {},
     "output_type": "execute_result"
    }
   ],
   "source": [
    "#Créer la table dropoff_location_dim avec les colonnes dropoff_location_id, dropoff_latitude, dropoff_longitude\n",
    "dropoff_location_dim = df[['dropoff_latitude', 'dropoff_longitude']].drop_duplicates().reset_index(drop=True)\n",
    "dropoff_location_dim['dropoff_location_id'] = dropoff_location_dim.index\n",
    "dropoff_location_dim = dropoff_location_dim[['dropoff_location_id', 'dropoff_latitude', 'dropoff_longitude']]\n",
    "dropoff_location_dim.head()"
   ],
   "metadata": {
    "collapsed": false
   }
  },
  {
   "cell_type": "code",
   "execution_count": 236,
   "outputs": [
    {
     "data": {
      "text/plain": "   payment_type_id  payment_type payment_type_name\n0                0             1       Credit card\n1                1             2              Cash\n2                2             3         No charge\n3                3             4           Dispute",
      "text/html": "<div>\n<style scoped>\n    .dataframe tbody tr th:only-of-type {\n        vertical-align: middle;\n    }\n\n    .dataframe tbody tr th {\n        vertical-align: top;\n    }\n\n    .dataframe thead th {\n        text-align: right;\n    }\n</style>\n<table border=\"1\" class=\"dataframe\">\n  <thead>\n    <tr style=\"text-align: right;\">\n      <th></th>\n      <th>payment_type_id</th>\n      <th>payment_type</th>\n      <th>payment_type_name</th>\n    </tr>\n  </thead>\n  <tbody>\n    <tr>\n      <th>0</th>\n      <td>0</td>\n      <td>1</td>\n      <td>Credit card</td>\n    </tr>\n    <tr>\n      <th>1</th>\n      <td>1</td>\n      <td>2</td>\n      <td>Cash</td>\n    </tr>\n    <tr>\n      <th>2</th>\n      <td>2</td>\n      <td>3</td>\n      <td>No charge</td>\n    </tr>\n    <tr>\n      <th>3</th>\n      <td>3</td>\n      <td>4</td>\n      <td>Dispute</td>\n    </tr>\n  </tbody>\n</table>\n</div>"
     },
     "execution_count": 236,
     "metadata": {},
     "output_type": "execute_result"
    }
   ],
   "source": [
    "#Créer le dictionnaire payment_type_name\n",
    "payment_type_name = {1: 'Credit card',\n",
    "                     2: 'Cash',\n",
    "                     3: 'No charge',\n",
    "                     4: 'Dispute',\n",
    "                     5: 'Unknown',\n",
    "                     6: 'Voided trip'}\n",
    "\n",
    "#Créer la table payment_type_dim avec les colonnes payment_type_id, payment_type et le payment_type_name\n",
    "payment_type_dim = df[['payment_type']].drop_duplicates().reset_index(drop=True)\n",
    "payment_type_dim['payment_type_id'] = payment_type_dim.index\n",
    "payment_type_dim['payment_type_name'] = payment_type_dim['payment_type'].map(payment_type_name)\n",
    "payment_type_dim = payment_type_dim[['payment_type_id', 'payment_type', 'payment_type_name']]\n",
    "payment_type_dim.head()"
   ],
   "metadata": {
    "collapsed": false
   }
  },
  {
   "cell_type": "code",
   "execution_count": 237,
   "outputs": [
    {
     "data": {
      "text/plain": "   VendorID  passenger_count_id  trip_distance_id  rate_code_id  \\\n0         1                   0                 0             0   \n1         2                   0                 0             0   \n2         2                   0                 0             0   \n3         2                   0                 0             0   \n4         2                   0                 0             0   \n\n   pickup_location_id  dropoff_location_id  payment_type_id  datetime_id  \\\n0                   0                    0                0            0   \n1                1481                 1484                0         1491   \n2                2816                 2819                0         2834   \n3                3465                 3470                0         3488   \n4                3899                 3903                0         3923   \n\n   fare_amount  extra  mta_tax  tip_amount  tolls_amount  \\\n0          9.0    0.5      0.5        2.05           0.0   \n1         10.5    0.0      0.5        2.26           0.0   \n2          9.5    0.0      0.5        1.25           0.0   \n3         13.5    0.0      0.5        2.00           0.0   \n4         10.5    0.0      0.5        2.26           0.0   \n\n   improvement_surcharge  total_amount  \n0                    0.3         12.35  \n1                    0.3         13.56  \n2                    0.3         11.55  \n3                    0.3         16.30  \n4                    0.3         13.56  ",
      "text/html": "<div>\n<style scoped>\n    .dataframe tbody tr th:only-of-type {\n        vertical-align: middle;\n    }\n\n    .dataframe tbody tr th {\n        vertical-align: top;\n    }\n\n    .dataframe thead th {\n        text-align: right;\n    }\n</style>\n<table border=\"1\" class=\"dataframe\">\n  <thead>\n    <tr style=\"text-align: right;\">\n      <th></th>\n      <th>VendorID</th>\n      <th>passenger_count_id</th>\n      <th>trip_distance_id</th>\n      <th>rate_code_id</th>\n      <th>pickup_location_id</th>\n      <th>dropoff_location_id</th>\n      <th>payment_type_id</th>\n      <th>datetime_id</th>\n      <th>fare_amount</th>\n      <th>extra</th>\n      <th>mta_tax</th>\n      <th>tip_amount</th>\n      <th>tolls_amount</th>\n      <th>improvement_surcharge</th>\n      <th>total_amount</th>\n    </tr>\n  </thead>\n  <tbody>\n    <tr>\n      <th>0</th>\n      <td>1</td>\n      <td>0</td>\n      <td>0</td>\n      <td>0</td>\n      <td>0</td>\n      <td>0</td>\n      <td>0</td>\n      <td>0</td>\n      <td>9.0</td>\n      <td>0.5</td>\n      <td>0.5</td>\n      <td>2.05</td>\n      <td>0.0</td>\n      <td>0.3</td>\n      <td>12.35</td>\n    </tr>\n    <tr>\n      <th>1</th>\n      <td>2</td>\n      <td>0</td>\n      <td>0</td>\n      <td>0</td>\n      <td>1481</td>\n      <td>1484</td>\n      <td>0</td>\n      <td>1491</td>\n      <td>10.5</td>\n      <td>0.0</td>\n      <td>0.5</td>\n      <td>2.26</td>\n      <td>0.0</td>\n      <td>0.3</td>\n      <td>13.56</td>\n    </tr>\n    <tr>\n      <th>2</th>\n      <td>2</td>\n      <td>0</td>\n      <td>0</td>\n      <td>0</td>\n      <td>2816</td>\n      <td>2819</td>\n      <td>0</td>\n      <td>2834</td>\n      <td>9.5</td>\n      <td>0.0</td>\n      <td>0.5</td>\n      <td>1.25</td>\n      <td>0.0</td>\n      <td>0.3</td>\n      <td>11.55</td>\n    </tr>\n    <tr>\n      <th>3</th>\n      <td>2</td>\n      <td>0</td>\n      <td>0</td>\n      <td>0</td>\n      <td>3465</td>\n      <td>3470</td>\n      <td>0</td>\n      <td>3488</td>\n      <td>13.5</td>\n      <td>0.0</td>\n      <td>0.5</td>\n      <td>2.00</td>\n      <td>0.0</td>\n      <td>0.3</td>\n      <td>16.30</td>\n    </tr>\n    <tr>\n      <th>4</th>\n      <td>2</td>\n      <td>0</td>\n      <td>0</td>\n      <td>0</td>\n      <td>3899</td>\n      <td>3903</td>\n      <td>0</td>\n      <td>3923</td>\n      <td>10.5</td>\n      <td>0.0</td>\n      <td>0.5</td>\n      <td>2.26</td>\n      <td>0.0</td>\n      <td>0.3</td>\n      <td>13.56</td>\n    </tr>\n  </tbody>\n</table>\n</div>"
     },
     "execution_count": 237,
     "metadata": {},
     "output_type": "execute_result"
    }
   ],
   "source": [
    "#Création fact_table\n",
    "fact_table=df.merge(passenger_count_dim, on='passenger_count') \\\n",
    "    .merge(trip_distance_dim, on='trip_distance') \\\n",
    "    .merge(rate_code_dim, on='RatecodeID') \\\n",
    "    .merge(pickup_location_dim, on=['pickup_latitude', 'pickup_longitude']) \\\n",
    "    .merge(dropoff_location_dim, on=['dropoff_latitude', 'dropoff_longitude']) \\\n",
    "    .merge(payment_type_dim, on='payment_type') \\\n",
    "    .merge(datetime_dim, on=['tpep_pickup_datetime', 'tpep_dropoff_datetime']) \\\n",
    "    [['VendorID', 'passenger_count_id', 'trip_distance_id', 'rate_code_id', 'pickup_location_id', 'dropoff_location_id', 'payment_type_id', 'datetime_id', 'fare_amount', 'extra', 'mta_tax', 'tip_amount', 'tolls_amount', 'improvement_surcharge', 'total_amount']]\n",
    "fact_table.head()\n"
   ],
   "metadata": {
    "collapsed": false
   }
  }
 ],
 "metadata": {
  "kernelspec": {
   "display_name": "Python 3",
   "language": "python",
   "name": "python3"
  },
  "language_info": {
   "codemirror_mode": {
    "name": "ipython",
    "version": 2
   },
   "file_extension": ".py",
   "mimetype": "text/x-python",
   "name": "python",
   "nbconvert_exporter": "python",
   "pygments_lexer": "ipython2",
   "version": "2.7.6"
  }
 },
 "nbformat": 4,
 "nbformat_minor": 0
}
